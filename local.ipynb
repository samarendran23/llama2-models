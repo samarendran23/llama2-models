{
 "cells": [
  {
   "cell_type": "code",
   "execution_count": 1,
   "id": "d5e1f690-d38b-48ab-9bb4-f48aa84ff4db",
   "metadata": {},
   "outputs": [],
   "source": [
    "import os\n",
    "from dotenv import load_dotenv\n",
    "\n",
    "load_dotenv()\n",
    "MODEL = \"llama2\""
   ]
  },
  {
   "cell_type": "code",
   "execution_count": 2,
   "id": "50d42338-3fb6-4cdd-92ea-cf6c7c637814",
   "metadata": {},
   "outputs": [
    {
     "data": {
      "text/plain": [
       "\"\\nWhy don't scientists trust atoms? Because they make up everything! 😂\""
      ]
     },
     "execution_count": 2,
     "metadata": {},
     "output_type": "execute_result"
    }
   ],
   "source": [
    "from langchain_community.llms import Ollama\n",
    "from langchain_community.embeddings import OllamaEmbeddings\n",
    "\n",
    "model = Ollama(model=MODEL)\n",
    "embeddings = OllamaEmbeddings(model=MODEL)\n",
    "\n",
    "model.invoke(\"Tell me a joke\")"
   ]
  },
  {
   "cell_type": "code",
   "execution_count": 3,
   "id": "9af0b81d-4b8b-40a3-b781-165b27da213e",
   "metadata": {},
   "outputs": [
    {
     "data": {
      "text/plain": [
       "\"Sure, here's one:\\n\\nWhy don't scientists trust atoms?\\nBecause they make up everything!\\n\\nI hope that brought a smile to your face!\""
      ]
     },
     "execution_count": 3,
     "metadata": {},
     "output_type": "execute_result"
    }
   ],
   "source": [
    "from langchain_core.output_parsers import StrOutputParser\n",
    "\n",
    "parser = StrOutputParser()\n",
    "\n",
    "chain = model | parser \n",
    "chain.invoke(\"Tell me a joke\")"
   ]
  },
  {
   "cell_type": "code",
   "execution_count": 4,
   "id": "b7e45964-2f71-4a08-b88f-e5f3b16e8f24",
   "metadata": {},
   "outputs": [
    {
     "data": {
      "text/plain": [
       "'\\nAnswer the question based on the context below. If you can\\'t \\nanswer the question, reply \"I don\\'t know\".\\n\\nContext: Here is some context\\n\\nQuestion: Here is a question\\n'"
      ]
     },
     "execution_count": 4,
     "metadata": {},
     "output_type": "execute_result"
    }
   ],
   "source": [
    "from langchain.prompts import PromptTemplate\n",
    "\n",
    "template = \"\"\"\n",
    "Answer the question based on the context below. If you can't \n",
    "answer the question, reply \"I don't know\".\n",
    "\n",
    "Context: {context}\n",
    "\n",
    "Question: {question}\n",
    "\"\"\"\n",
    "\n",
    "prompt = PromptTemplate.from_template(template)\n",
    "prompt.format(context=\"Here is some context\", question=\"Here is a question\")"
   ]
  },
  {
   "cell_type": "code",
   "execution_count": 5,
   "id": "10d8621d-ea49-4b01-b6c6-0bbf97c08a89",
   "metadata": {},
   "outputs": [
    {
     "data": {
      "text/plain": [
       "' Sure! Based on the context you provided, my answer to the question \"What\\'s your name?\" would be: Santiago.'"
      ]
     },
     "execution_count": 5,
     "metadata": {},
     "output_type": "execute_result"
    }
   ],
   "source": [
    "chain = prompt | model | parser\n",
    "\n",
    "chain.input_schema.schema()\n",
    "\n",
    "chain.invoke({\"context\": \"My parents named me Santiago\", \"question\": \"What's your name'?\"})"
   ]
  },
  {
   "cell_type": "code",
   "execution_count": 6,
   "id": "3f22706b-8cfd-4a83-a0c2-b359fd633aad",
   "metadata": {},
   "outputs": [
    {
     "data": {
      "text/plain": [
       "[Document(page_content='U.S. Department of \\nHealth and Human Service s \\nCenters for Disease Control and Prevention VACCINE INFORMATION STATEMENT\\nHepatitis A Vaccine:\\nWhat You Need to KnowMany vaccine information statements are \\navailable in Spanish and other languages.  \\nSee www.immunize.org/vis\\nHojas de información sobre vacunas están disponibles en español y en muchos otros idiomas. Visite www.immunize.org/vis\\n1. Why get vaccinated?\\nHepatitis A vaccine can prevent hepatitis A .\\nHepatitis A is a serious liver disease. It is usually \\nspread through close, personal contact with an \\ninfected person or when a person unknowingly \\ningests the virus from objects, food, or drinks that \\nare contaminated by small amounts of stool (poop) \\nfrom an infected person.\\nMost adults with hepatitis A have symptoms, \\nincluding fatigue, low appetite, stomach pain, \\nnausea, and jaundice (yellow skin or eyes, dark urine, \\nlight-colored bowel movements). Most children less \\nthan 6 years of age do not have symptoms.\\nA person infected with hepatitis A can transmit the \\ndisease to other people even if he or she does not \\nhave any symptoms of the disease.\\nMost people who get hepatitis A feel sick for several \\nweeks, but they usually recover completely and do \\nnot have lasting liver damage. In rare cases, hepatitis A can cause liver failure and death; this is more \\ncommon in people older than 50 years and in people \\nwith other liver diseases.\\nHepatitis A vaccine has made this disease much less \\ncommon in the United States. However, outbreaks of hepatitis A among unvaccinated people still happen.2. Hepatitis A vaccine\\nChildren need 2 doses of hepatitis A vaccine:\\n \\x82First dose: 12 through 23 months of age\\n \\x82Second dose: at least 6 months after the first dose\\nInfants 6 through 11 months old traveling outside \\nthe United States when protection against hepatitis\\xa0A \\nis recommended should receive 1 dose of hepatitis\\xa0A \\nvaccine. These children should still get 2 additional doses at the recommended ages for long-lasting protection.\\nOlder children and adolescents 2 through 18 years \\nof age who were not vaccinated previously should  \\nbe vaccinated.\\nAdults who were not vaccinated previously and want \\nto be protected against hepatitis A can also get the \\nvaccine.\\nHepatitis A vaccine is also recommended for the \\nfollowing people:\\n \\x82International travelers\\n \\x82Men who have sexual contact with other men\\n \\x82People who use injection or non-injection drugs\\n \\x82People who have occupational risk for infection\\n \\x82People who anticipate close contact with an \\ninternational adoptee\\n \\x82People experiencing homelessness\\n \\x82People with HIV\\n \\x82People with chronic liver disease\\nIn addition, a person who has not previously received hepatitis A vaccine and who has direct contact with someone with hepatitis A should get \\nhepatitis A vaccine as soon as possible and within \\n2\\xa0weeks after exposure.\\nHepatitis A vaccine may be given at the same time as \\nother vaccines.', metadata={'source': 'Hepatitis_A_Dose2_Doc.pdf', 'page': 0}),\n",
       " Document(page_content='OFFICE  \\nUSE  ONLY3.  T alk with your health  \\ncare provider\\nTell your vaccination provider if the person getting \\nthe vaccine:\\n \\x82Has had an allergic reaction after a previous dose \\nof hepatitis A vaccine, or has any severe, life-\\nthreatening allergies\\nIn some cases, your health care provider may  decide to postpone hepatitis A vaccination until  \\na future visit.\\nPregnant or breastfeeding people should be \\nvaccinated if they are at risk for getting hepatitis\\xa0A. \\nPregnancy or breastfeeding are not reasons to avoid \\nhepatitis A vaccination.\\nPeople with minor illnesses, such as a cold, may be \\nvaccinated. People who are moderately or severely ill should usually wait until they recover before getting \\nhepatitis\\xa0A vaccine.\\nY our health care provider can give you more \\ninformation.\\n4. Risks of a vaccine reaction\\n \\x82Soreness or redness where the shot is given, fever, \\nheadache, tiredness, or loss of appetite can happen \\nafter hepatitis A vaccination.\\nPeople sometimes faint after medical procedures, including vaccination. Tell your provider if you feel dizzy or have vision changes or ringing in the ears.\\nAs with any medicine, there is a very remote chance \\nof a vaccine causing a severe allergic reaction, other \\nserious injury, or death.5.  What if ther e is a serious \\nproblem?\\nAn allergic reaction could occur after the vaccinated \\nperson leaves the clinic. If you see signs of a \\nsevere allergic reaction (hives, swelling of the face \\nand throat, difficulty breathing, a fast heartbeat, \\ndizziness, or weakness), call 9-1-1 and get the person \\nto the nearest hospital.\\nFor other signs that concern you, call your health \\ncare provider.\\nAdverse reactions should be reported to the Vaccine \\nAdverse Event Reporting System (V AERS). Y our \\nhealth care provider will usually file this report, or \\nyou can do it yourself. Visit the V AERS website at \\nwww.vaers.hhs.gov or call 1-800-822-7967. VAERS \\nis only for reporting reactions, and VAERS staff \\nmembers do not give medical advice.\\n6.  The National V accine Injury \\nCompensation Program\\nThe National Vaccine Injury Compensation Program (VICP) is a federal program that was created to \\ncompensate people who may have been injured by \\ncertain vaccines. Claims regarding alleged injury or death due to vaccination have a time limit for filing, \\nwhich may be as short as two years. Visit the VICP \\nwebsite at www.hrsa.gov/vaccinecompensation or \\ncall 1-800-338-2382 to learn about the program and \\nabout filing a claim.\\n7. How can I learn more?\\n \\x82Ask your health care provider.\\n \\x82Call your local or state health department.\\n \\x82Visit the website of the Food and Drug Administration (FDA) for vaccine package inserts \\nand additional information at www.fda.gov/\\nvaccines-blood-biologics/vaccines.\\n \\x82Contact the Centers for Disease Control and Prevention (CDC):\\n -Call 1-800-232-4636 (1-800-CDC-INFO) or\\n -Visit CDC’s website at www.cdc.gov/vaccines.\\nVaccine Information Statement\\nHepatitis A Vaccine42 U.S.C. § 300aa-26\\n10/15/2021', metadata={'source': 'Hepatitis_A_Dose2_Doc.pdf', 'page': 1})]"
      ]
     },
     "execution_count": 6,
     "metadata": {},
     "output_type": "execute_result"
    }
   ],
   "source": [
    "from langchain_community.document_loaders import PyPDFLoader\n",
    "\n",
    "loader = PyPDFLoader(\"Hepatitis_A_Dose2_Doc.pdf\")\n",
    "pages = loader.load_and_split()\n",
    "pages"
   ]
  },
  {
   "cell_type": "code",
   "execution_count": 7,
   "id": "5f67bcc9-0ab5-4ae1-a20b-383f83af8674",
   "metadata": {},
   "outputs": [],
   "source": [
    "from langchain_community.vectorstores import DocArrayInMemorySearch\n",
    "\n",
    "vectorstore = DocArrayInMemorySearch.from_documents(pages, embedding=embeddings)"
   ]
  },
  {
   "cell_type": "code",
   "execution_count": 8,
   "id": "349244ab-06e8-420d-80a4-c3a8301320d1",
   "metadata": {},
   "outputs": [
    {
     "data": {
      "text/plain": [
       "[Document(page_content='OFFICE  \\nUSE  ONLY3.  T alk with your health  \\ncare provider\\nTell your vaccination provider if the person getting \\nthe vaccine:\\n \\x82Has had an allergic reaction after a previous dose \\nof hepatitis A vaccine, or has any severe, life-\\nthreatening allergies\\nIn some cases, your health care provider may  decide to postpone hepatitis A vaccination until  \\na future visit.\\nPregnant or breastfeeding people should be \\nvaccinated if they are at risk for getting hepatitis\\xa0A. \\nPregnancy or breastfeeding are not reasons to avoid \\nhepatitis A vaccination.\\nPeople with minor illnesses, such as a cold, may be \\nvaccinated. People who are moderately or severely ill should usually wait until they recover before getting \\nhepatitis\\xa0A vaccine.\\nY our health care provider can give you more \\ninformation.\\n4. Risks of a vaccine reaction\\n \\x82Soreness or redness where the shot is given, fever, \\nheadache, tiredness, or loss of appetite can happen \\nafter hepatitis A vaccination.\\nPeople sometimes faint after medical procedures, including vaccination. Tell your provider if you feel dizzy or have vision changes or ringing in the ears.\\nAs with any medicine, there is a very remote chance \\nof a vaccine causing a severe allergic reaction, other \\nserious injury, or death.5.  What if ther e is a serious \\nproblem?\\nAn allergic reaction could occur after the vaccinated \\nperson leaves the clinic. If you see signs of a \\nsevere allergic reaction (hives, swelling of the face \\nand throat, difficulty breathing, a fast heartbeat, \\ndizziness, or weakness), call 9-1-1 and get the person \\nto the nearest hospital.\\nFor other signs that concern you, call your health \\ncare provider.\\nAdverse reactions should be reported to the Vaccine \\nAdverse Event Reporting System (V AERS). Y our \\nhealth care provider will usually file this report, or \\nyou can do it yourself. Visit the V AERS website at \\nwww.vaers.hhs.gov or call 1-800-822-7967. VAERS \\nis only for reporting reactions, and VAERS staff \\nmembers do not give medical advice.\\n6.  The National V accine Injury \\nCompensation Program\\nThe National Vaccine Injury Compensation Program (VICP) is a federal program that was created to \\ncompensate people who may have been injured by \\ncertain vaccines. Claims regarding alleged injury or death due to vaccination have a time limit for filing, \\nwhich may be as short as two years. Visit the VICP \\nwebsite at www.hrsa.gov/vaccinecompensation or \\ncall 1-800-338-2382 to learn about the program and \\nabout filing a claim.\\n7. How can I learn more?\\n \\x82Ask your health care provider.\\n \\x82Call your local or state health department.\\n \\x82Visit the website of the Food and Drug Administration (FDA) for vaccine package inserts \\nand additional information at www.fda.gov/\\nvaccines-blood-biologics/vaccines.\\n \\x82Contact the Centers for Disease Control and Prevention (CDC):\\n -Call 1-800-232-4636 (1-800-CDC-INFO) or\\n -Visit CDC’s website at www.cdc.gov/vaccines.\\nVaccine Information Statement\\nHepatitis A Vaccine42 U.S.C. § 300aa-26\\n10/15/2021', metadata={'source': 'Hepatitis_A_Dose2_Doc.pdf', 'page': 1}),\n",
       " Document(page_content='U.S. Department of \\nHealth and Human Service s \\nCenters for Disease Control and Prevention VACCINE INFORMATION STATEMENT\\nHepatitis A Vaccine:\\nWhat You Need to KnowMany vaccine information statements are \\navailable in Spanish and other languages.  \\nSee www.immunize.org/vis\\nHojas de información sobre vacunas están disponibles en español y en muchos otros idiomas. Visite www.immunize.org/vis\\n1. Why get vaccinated?\\nHepatitis A vaccine can prevent hepatitis A .\\nHepatitis A is a serious liver disease. It is usually \\nspread through close, personal contact with an \\ninfected person or when a person unknowingly \\ningests the virus from objects, food, or drinks that \\nare contaminated by small amounts of stool (poop) \\nfrom an infected person.\\nMost adults with hepatitis A have symptoms, \\nincluding fatigue, low appetite, stomach pain, \\nnausea, and jaundice (yellow skin or eyes, dark urine, \\nlight-colored bowel movements). Most children less \\nthan 6 years of age do not have symptoms.\\nA person infected with hepatitis A can transmit the \\ndisease to other people even if he or she does not \\nhave any symptoms of the disease.\\nMost people who get hepatitis A feel sick for several \\nweeks, but they usually recover completely and do \\nnot have lasting liver damage. In rare cases, hepatitis A can cause liver failure and death; this is more \\ncommon in people older than 50 years and in people \\nwith other liver diseases.\\nHepatitis A vaccine has made this disease much less \\ncommon in the United States. However, outbreaks of hepatitis A among unvaccinated people still happen.2. Hepatitis A vaccine\\nChildren need 2 doses of hepatitis A vaccine:\\n \\x82First dose: 12 through 23 months of age\\n \\x82Second dose: at least 6 months after the first dose\\nInfants 6 through 11 months old traveling outside \\nthe United States when protection against hepatitis\\xa0A \\nis recommended should receive 1 dose of hepatitis\\xa0A \\nvaccine. These children should still get 2 additional doses at the recommended ages for long-lasting protection.\\nOlder children and adolescents 2 through 18 years \\nof age who were not vaccinated previously should  \\nbe vaccinated.\\nAdults who were not vaccinated previously and want \\nto be protected against hepatitis A can also get the \\nvaccine.\\nHepatitis A vaccine is also recommended for the \\nfollowing people:\\n \\x82International travelers\\n \\x82Men who have sexual contact with other men\\n \\x82People who use injection or non-injection drugs\\n \\x82People who have occupational risk for infection\\n \\x82People who anticipate close contact with an \\ninternational adoptee\\n \\x82People experiencing homelessness\\n \\x82People with HIV\\n \\x82People with chronic liver disease\\nIn addition, a person who has not previously received hepatitis A vaccine and who has direct contact with someone with hepatitis A should get \\nhepatitis A vaccine as soon as possible and within \\n2\\xa0weeks after exposure.\\nHepatitis A vaccine may be given at the same time as \\nother vaccines.', metadata={'source': 'Hepatitis_A_Dose2_Doc.pdf', 'page': 0})]"
      ]
     },
     "execution_count": 8,
     "metadata": {},
     "output_type": "execute_result"
    }
   ],
   "source": [
    "retriever = vectorstore.as_retriever()\n",
    "retriever.invoke(\"Hepatitis\")"
   ]
  },
  {
   "cell_type": "code",
   "execution_count": 9,
   "id": "d21f9d98-bdeb-4818-bf56-ff1dd8e194f4",
   "metadata": {},
   "outputs": [],
   "source": [
    "from operator import itemgetter\n",
    "\n",
    "chain = (\n",
    "    {\n",
    "        \"context\": itemgetter(\"question\") | retriever,\n",
    "        \"question\": itemgetter(\"question\"),\n",
    "    }\n",
    "    | prompt\n",
    "    | model\n",
    "    | parser\n",
    ")"
   ]
  },
  {
   "cell_type": "code",
   "execution_count": 10,
   "id": "00f00157-48f0-4a28-aa42-a517c3a4c4e1",
   "metadata": {},
   "outputs": [
    {
     "name": "stdout",
     "output_type": "stream",
     "text": [
      "Question: What is Hepatitis A?\n",
      "Answer: Based on the provided document, Hepatitis A is a serious liver disease that is usually spread through close, personal contact with an infected person or when a person unknowingly ingests the virus from objects, food, or drinks that are contaminated by small amounts of stool from an infected person.\n",
      "\n",
      "Question: How many doses of Hepatitis A vaccine the children needs?\n",
      "Answer: Based on the provided document, children need two doses of Hepatitis A vaccine:\n",
      "\n",
      "* The first dose should be given at 12 through 23 months of age.\n",
      "* The second dose should be given at least 6 months after the first dose.\n",
      "\n",
      "So, the answer to your question is two doses of Hepatitis A vaccine for children.\n",
      "\n",
      "Question: Whom to contact or email if there is a serious problem?\n",
      "Answer: Based on the information provided in the document, if there is a serious problem regarding hepatitis A vaccination, individuals can contact their healthcare provider or local health department. They can also visit the Centers for Disease Control and Prevention (CDC) website for more information.\n",
      "\n",
      "Question: What are the risks of a vaccine reaction?\n",
      "Answer: Based on the provided document, the risks of a vaccine reaction include soreness or redness where the shot is given, fever, headache, tiredness, or loss of appetite. Additionally, people may faint after medical procedures, including vaccination, and as with any medicine, there is a very remote chance of a vaccine causing a severe allergic reaction, other serious injury, or death.\n",
      "\n",
      "Question: How much does the vaccine cost?\n",
      "Answer: I don't have access to real-time pricing information for hepatitis A vaccines, as this information is subject to change and may vary depending on location, provider, and other factors. Additionally, I cannot provide medical advice or recommendations, including the cost of vaccines. It's best to consult with a healthcare professional or visit a reputable medical provider for accurate pricing information and to discuss any questions or concerns you may have about the vaccine or any other medical treatment.\n",
      "\n"
     ]
    }
   ],
   "source": [
    "questions = [\n",
    "    \"What is Hepatitis A?\",\n",
    "    \"How many doses of Hepatitis A vaccine the children needs?\",\n",
    "    \"Whom to contact or email if there is a serious problem?\",\n",
    "    \"What are the risks of a vaccine reaction?\",\n",
    "    \"How much does the vaccine cost?\",\n",
    "]\n",
    "\n",
    "for question in questions:\n",
    "    print(f\"Question: {question}\")\n",
    "    print(f\"Answer: {chain.invoke({'question': question})}\")\n",
    "    print()"
   ]
  },
  {
   "cell_type": "code",
   "execution_count": null,
   "id": "4dc2318a-1bd6-4c19-b7f1-363174c73157",
   "metadata": {},
   "outputs": [],
   "source": []
  }
 ],
 "metadata": {
  "kernelspec": {
   "display_name": "Python 3 (ipykernel)",
   "language": "python",
   "name": "python3"
  },
  "language_info": {
   "codemirror_mode": {
    "name": "ipython",
    "version": 3
   },
   "file_extension": ".py",
   "mimetype": "text/x-python",
   "name": "python",
   "nbconvert_exporter": "python",
   "pygments_lexer": "ipython3",
   "version": "3.12.0"
  }
 },
 "nbformat": 4,
 "nbformat_minor": 5
}
